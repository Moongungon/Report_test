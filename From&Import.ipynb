{
  "nbformat": 4,
  "nbformat_minor": 0,
  "metadata": {
    "colab": {
      "name": "Untitled1.ipynb",
      "provenance": [],
      "collapsed_sections": [],
      "authorship_tag": "ABX9TyMAyqUNU3Wk7s12N9qPFGqx",
      "include_colab_link": true
    },
    "kernelspec": {
      "name": "python3",
      "display_name": "Python 3"
    }
  },
  "cells": [
    {
      "cell_type": "markdown",
      "metadata": {
        "id": "view-in-github",
        "colab_type": "text"
      },
      "source": [
        "<a href=\"https://colab.research.google.com/github/Moongungon/Report_test/blob/master/From%26Import.ipynb\" target=\"_parent\"><img src=\"https://colab.research.google.com/assets/colab-badge.svg\" alt=\"Open In Colab\"/></a>"
      ]
    },
    {
      "cell_type": "code",
      "metadata": {
        "id": "D8CBvB27j-Fz",
        "colab_type": "code",
        "colab": {
          "base_uri": "https://localhost:8080/",
          "height": 221
        },
        "outputId": "e1641854-7b60-4750-9dbd-bdbfea0b08a1"
      },
      "source": [
        "from my_email import Email\n",
        "\n",
        "e = Email()\n",
        "e.sender = \"airim@naver.com\"\n",
        "recv_list = [\"gwangjuai_1@likelion.net\",\"gwangjuai_2@likelion.net\"]\n",
        "\n",
        "for recv in recv_list : \n",
        "  e.send_mail(recv,\"광주 인공지능사관학교에 오신것을 환영합니다.\",\"이번 온라인강의는 함수와 클래쓰입니다.\")"
      ],
      "execution_count": 10,
      "outputs": [
        {
          "output_type": "stream",
          "text": [
            "from:\tairim@naver.com\n",
            "To:\tgwangjuai_1@likelion.net\n",
            "subject:광주 인공지능사관학교에 오신것을 환영합니다.\n",
            "contents\n",
            "이번 온라인강의는 함수와 클래쓰입니다.\n",
            "----------------------------------------\n",
            "from:\tairim@naver.com\n",
            "To:\tgwangjuai_2@likelion.net\n",
            "subject:광주 인공지능사관학교에 오신것을 환영합니다.\n",
            "contents\n",
            "이번 온라인강의는 함수와 클래쓰입니다.\n",
            "----------------------------------------\n"
          ],
          "name": "stdout"
        }
      ]
    },
    {
      "cell_type": "code",
      "metadata": {
        "id": "pSqc5toogQgR",
        "colab_type": "code",
        "colab": {
          "base_uri": "https://localhost:8080/",
          "height": 221
        },
        "outputId": "e354a6fc-8049-4019-b27a-c1338dac5ae0"
      },
      "source": [
        "class Email : \n",
        "  sender =\"\"\n",
        "\n",
        "  def send_mail(self,recv,subject,contents):\n",
        "    print(\"from:\\t\"+self.sender)\n",
        "    print(\"To:\\t\"+recv)\n",
        "    print(\"subject:\"+subject)\n",
        "    print(\"contents\")\n",
        "    print(contents)\n",
        "    print(\"-\"*40)\n",
        "\n",
        "e = Email()\n",
        "e.sender = \"airim@naver.com\"\n",
        "recv_list = [\"gwangjuai_1@likelion.net\",\"gwangjuai_2@likelion.net\"]\n",
        "\n",
        "for recv in recv_list : \n",
        "  e.send_mail(recv,\"광주 인공지능사관학교에 오신것을 환영합니다.\",\"이번 온라인강의는 함수와 클래쓰입니다.\")"
      ],
      "execution_count": 3,
      "outputs": [
        {
          "output_type": "stream",
          "text": [
            "from:\tairim@naver.com\n",
            "To:\tgwangjuai_1@likelion.net\n",
            "subject:광주 인공지능사관학교에 오신것을 환영합니다.\n",
            "contents\n",
            "이번 온라인강의는 함수와 클래쓰입니다.\n",
            "----------------------------------------\n",
            "from:\tairim@naver.com\n",
            "To:\tgwangjuai_2@likelion.net\n",
            "subject:광주 인공지능사관학교에 오신것을 환영합니다.\n",
            "contents\n",
            "이번 온라인강의는 함수와 클래쓰입니다.\n",
            "----------------------------------------\n"
          ],
          "name": "stdout"
        }
      ]
    }
  ]
}